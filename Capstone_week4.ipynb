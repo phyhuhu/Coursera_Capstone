{
 "cells": [
  {
   "cell_type": "markdown",
   "metadata": {},
   "source": [
    "<h1><center> Capstone (Week4): The Battle of Neighborhoods in Houston  </center></h1>\n",
    "<h2><center> Capstone Project for IBM Data Science Professional Certificate </center></h2>\n",
    "<h3><center> Wenjun Hu, 02/13/2020 </center></h2>"
   ]
  },
  {
   "cell_type": "markdown",
   "metadata": {},
   "source": [
    "<img src=\"https://communityimpact.com/wp-content/uploads/2019/09/skyline-houston.jpg\" title=\"Houston\"/>"
   ]
  },
  {
   "cell_type": "markdown",
   "metadata": {},
   "source": [
    "## Table of contents\n",
    "* [Introduction](#introduction)\n",
    "* [Data](#data)"
   ]
  },
  {
   "cell_type": "markdown",
   "metadata": {},
   "source": [
    "## Introduction <a name=\"introduction\"></a>"
   ]
  },
  {
   "cell_type": "markdown",
   "metadata": {},
   "source": [
    "_**Houston**_ is the fourth most populous city in the USA, located in the state of Texas with the population more than 2.3 million. It is recognized worldwide for its oil and natural gas industry and biomedical research, such as the MD Anderson Cancer Center, as well as the famous National Aeronautics and Space Administration (NASA). [[1](#1)] Besides, Houston is a kid-friendly city with the Houston zoo, many beatiful parks, and different kinds of museums. One more reason that I like to live in Houston is that there are many restaurants and anyone can find his/her prefered ones in this city. So for this big city, how to find useful neighborhoods? Or if someone wants to start a business, such as staring a restaurant, in Houston, how to choose the suitable location?"
   ]
  },
  {
   "cell_type": "markdown",
   "metadata": {},
   "source": [
    "### Business Problem\n",
    "In this project, I will study the neighborhoods in Houston, especially the restaurants. I will try to find the popular restaurants and possible candidate locations for opening a restaurant. Since there are many restaurants aready in Houston, my goal will be to detect the locations that are not crowded with some kind of restaurants. Particularly, the location that has no that kind of restaurants will be most candidate. But the population should be another element that should be considered. I will use the neighborhood data to generate most promissing neighborhoods as the candidates based on the above criteria. Also I will clearly discuss the advantages and disadvantages of each candidates, so the stakeholders can choose the best possible locations."
   ]
  },
  {
   "cell_type": "markdown",
   "metadata": {},
   "source": [
    "### Target Audience\n",
    "This project can benefit to people who want to open a restaurant business in Houston. Also, this project can have some suggestions for the running restaurants to better organize their business, such as continuing or expending current restaurant or shifting to another cuisine."
   ]
  },
  {
   "cell_type": "markdown",
   "metadata": {},
   "source": [
    "## Data <a name=\"data\"></a>"
   ]
  },
  {
   "cell_type": "markdown",
   "metadata": {},
   "source": [
    "The required data include:\n",
    "+ List of all the neighborhoods in Houston\n",
    "+ The locations for each neighborhood\n",
    "+ The population data for each neighborhood\n",
    "+ The list of all the restaurants in Houston"
   ]
  },
  {
   "cell_type": "markdown",
   "metadata": {},
   "source": [
    "### Data Sources\n",
    "+ The super neighborhoods can be found from the website https://cohgis-mycity.opendata.arcgis.com/datasets/coh-super-neighborhoods?geometry=-97.372%2C29.406%2C-93.458%2C30.240&page=9 [[2](#2)]\n",
    "\n",
    "+ The locations of latitude and longitude for each super neighborhood can be obtained from Google through libary \"_geopy.geocoders_\".\n",
    "\n",
    "+ The population data of each super neighborhood can be grabed from a pdf file from the website http://www.houstontx.gov/planning/Demographics/docs_pdfs/SN/Age_Total_Population.pdf [[3](#3)]\n",
    "\n",
    "+ The list of all the restaurants for each super neighborhood can be obtained by using Foursquare API https://developer.foursquare.com [[4](#4)]"
   ]
  },
  {
   "cell_type": "markdown",
   "metadata": {},
   "source": [
    "### How the data will be used to solve the problem?\n",
    "First of all, the super neighborhoods will be grabbed from the website of \"cohgis-mycity.opendata.arcgis.com\". Then the locations of latitudes and longitudes will be obtained by \"geopy.geocoders\" from Google. Together with the population data of each super neighborhood, a dataframe will be created. After these pre-processing, I will use the Foursquare API to get all venues for each super neighborhood, for which I will select all the venues with category containing \"Restaurant\". By using the K-means clustering, I will analyze all restaurants in Houston and make the Houston map to visulize the locations of different clusters. Through these analysis, I can have clear idea for the candidate locations where to open a new restaurant business."
   ]
  },
  {
   "cell_type": "markdown",
   "metadata": {},
   "source": [
    "  ## References"
   ]
  },
  {
   "cell_type": "markdown",
   "metadata": {},
   "source": [
    "[1] https://en.wikipedia.org/wiki/Houston <a name=\"1\"></a>  \n",
    "[2] https://cohgis-mycity.opendata.arcgis.com/ <a name=\"2\"></a>  \n",
    "[3] http://www.houstontx.gov <a name=\"3\"></a>  \n",
    "[4] https://foursquare.com <a name=\"4\"></a>  "
   ]
  },
  {
   "cell_type": "markdown",
   "metadata": {},
   "source": [
    "## Supplemental Material"
   ]
  },
  {
   "cell_type": "markdown",
   "metadata": {},
   "source": [
    "In order to make better typesetting, I use the libary \"_IPython.core.display_\", which may not work in github. Please use \"_nbviewer_\" for this report in the following link:  \n",
    "https://nbviewer.jupyter.org/github/phyhuhu/Coursera_Capstone/blob/master/Capstone_week4.ipynb"
   ]
  },
  {
   "cell_type": "code",
   "execution_count": 10,
   "metadata": {
    "hideCode": true,
    "hideOutput": true,
    "hidePrompt": true
   },
   "outputs": [
    {
     "data": {
      "text/html": [
       "\n",
       "<style>\n",
       "\n",
       "div.cell { /* Tunes the space between cells */\n",
       "margin-top:0.2em;\n",
       "margin-bottom:0.2em;\n",
       "}\n",
       "\n",
       "div.text_cell_render h1 { /* Main titles bigger, centered */\n",
       "font-size: 2.2em;\n",
       "line-height:1.4em;\n",
       "text-align:center;\n",
       "}\n",
       "\n",
       "div.text_cell_render h2 { /*  Parts names nearer from text */\n",
       "margin-bottom: -0.4em;\n",
       "}\n",
       "\n",
       "div.text_cell_render { /* Customize text cells */\n",
       "font-family: 'Times New Roman';\n",
       "font-size:1.5em;\n",
       "line-height:1.0em;\n",
       "padding-left:2em;\n",
       "padding-right:2em;\n",
       "}\n",
       "\n",
       "</style>\n"
      ],
      "text/plain": [
       "<IPython.core.display.HTML object>"
      ]
     },
     "execution_count": 10,
     "metadata": {},
     "output_type": "execute_result"
    }
   ],
   "source": [
    "# code for the typesetting:\n",
    "from IPython.core.display import HTML\n",
    "HTML(\"\"\"\n",
    "<style>\n",
    "\n",
    "div.cell { /* Tunes the space between cells */\n",
    "margin-top:0.2em;\n",
    "margin-bottom:0.2em;\n",
    "}\n",
    "\n",
    "div.text_cell_render h1 { /* Main titles bigger, centered */\n",
    "font-size: 2.2em;\n",
    "line-height:1.4em;\n",
    "text-align:center;\n",
    "}\n",
    "\n",
    "div.text_cell_render h2 { /*  Parts names nearer from text */\n",
    "margin-bottom: -0.4em;\n",
    "}\n",
    "\n",
    "div.text_cell_render { /* Customize text cells */\n",
    "font-family: 'Times New Roman';\n",
    "font-size:1.5em;\n",
    "line-height:1.0em;\n",
    "padding-left:2em;\n",
    "padding-right:2em;\n",
    "}\n",
    "\n",
    "</style>\n",
    "\"\"\")"
   ]
  }
 ],
 "metadata": {
  "kernelspec": {
   "display_name": "Python 3",
   "language": "python",
   "name": "python3"
  },
  "language_info": {
   "codemirror_mode": {
    "name": "ipython",
    "version": 3
   },
   "file_extension": ".py",
   "mimetype": "text/x-python",
   "name": "python",
   "nbconvert_exporter": "python",
   "pygments_lexer": "ipython3",
   "version": "3.6.7"
  }
 },
 "nbformat": 4,
 "nbformat_minor": 2
}

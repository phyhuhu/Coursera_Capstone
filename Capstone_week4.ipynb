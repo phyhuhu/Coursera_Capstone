{
 "cells": [
  {
   "cell_type": "code",
   "execution_count": 3,
   "metadata": {
    "hideCode": true,
    "hideOutput": true,
    "hidePrompt": true
   },
   "outputs": [
    {
     "data": {
      "text/html": [
       "\n",
       "<style>\n",
       "\n",
       "div.cell { /* Tunes the space between cells */\n",
       "margin-top:0.2em;\n",
       "margin-bottom:0.2em;\n",
       "}\n",
       "\n",
       "div.text_cell_render h1 { /* Main titles bigger, centered */\n",
       "font-size: 2.2em;\n",
       "line-height:1.4em;\n",
       "text-align:center;\n",
       "}\n",
       "\n",
       "div.text_cell_render h2 { /*  Parts names nearer from text */\n",
       "margin-bottom: -0.4em;\n",
       "}\n",
       "\n",
       "div.text_cell_render { /* Customize text cells */\n",
       "font-family: 'Times New Roman';\n",
       "font-size:1.5em;\n",
       "line-height:1.0em;\n",
       "padding-left:2em;\n",
       "padding-right:2em;\n",
       "}\n",
       "\n",
       "</style>\n"
      ],
      "text/plain": [
       "<IPython.core.display.HTML object>"
      ]
     },
     "execution_count": 3,
     "metadata": {},
     "output_type": "execute_result"
    }
   ],
   "source": [
    "from IPython.core.display import HTML\n",
    "HTML(\"\"\"\n",
    "<style>\n",
    "\n",
    "div.cell { /* Tunes the space between cells */\n",
    "margin-top:0.2em;\n",
    "margin-bottom:0.2em;\n",
    "}\n",
    "\n",
    "div.text_cell_render h1 { /* Main titles bigger, centered */\n",
    "font-size: 2.2em;\n",
    "line-height:1.4em;\n",
    "text-align:center;\n",
    "}\n",
    "\n",
    "div.text_cell_render h2 { /*  Parts names nearer from text */\n",
    "margin-bottom: -0.4em;\n",
    "}\n",
    "\n",
    "div.text_cell_render { /* Customize text cells */\n",
    "font-family: 'Times New Roman';\n",
    "font-size:1.5em;\n",
    "line-height:1.0em;\n",
    "padding-left:2em;\n",
    "padding-right:2em;\n",
    "}\n",
    "\n",
    "</style>\n",
    "\"\"\")"
   ]
  },
  {
   "cell_type": "markdown",
   "metadata": {},
   "source": [
    "# Capstone (Week4): The Battle of Neighborhoods in Houston\n",
    "## Capstone Project for IBM Data science Professional Certificate\n",
    "### Wenjun Hu, 02/11/2020"
   ]
  },
  {
   "cell_type": "markdown",
   "metadata": {},
   "source": [
    "<img src=\"https://communityimpact.com/wp-content/uploads/2019/09/skyline-houston.jpg\" title=\"Houston\"/>"
   ]
  },
  {
   "cell_type": "markdown",
   "metadata": {},
   "source": [
    "## Introduction\n",
    "  \n",
    "  \n",
    "_**Houston**_ is the fourth most populous city in the USA, located in the state of Texas. It is recognized worldwide for its oil and natural gas industry and biomedical research, such as the M.D. Anderson cancel center and the Texas Medical Center, as well as the National Aeronautics and Space Administration (NASA)."
   ]
  },
  {
   "cell_type": "markdown",
   "metadata": {},
   "source": [
    "Silicon Valley needs no introduction. It is considered as the cradle of innovation.\n",
    "Many tech companies have their offices and head quarters situated in the\n",
    "Bay Area. But what if someone wants to start a restaurant business in the\n",
    "Bay Area? There are already many restaurant chains in the valley and near\n",
    "the offices of almost every tech company. So how can someone address\n",
    "this problem?\n",
    "\n",
    "\n",
    "Houston (/ˈhjuːstən/ (About this soundlisten) HEW-stən) is the most populous city in the U.S. state of Texas, fourth most populous city in the United States, most populous city in the Southern United States, as well as the sixth most populous in North America, with an estimated 2018 population of 2,325,502.[2] Located in Southeast Texas near Galveston Bay and the Gulf of Mexico, it is the seat of Harris County and the principal city of the Greater Houston metropolitan area, which is the fifth most populous metropolitan statistical area in the United States and the second most populous in Texas after the Dallas-Fort Worth metroplex, with a population of 6,997,384 in 2018.[5]\n",
    "\n",
    "Comprising a total area of 637.4 square miles (1,651 km2),[6] Houston is the eighth most expansive city in the United States (including consolidated city-counties). It is the largest city in the United States by total area, whose government is not consolidated with that of a county, parish or borough. Though primarily in Harris County, small portions of the city extend into Fort Bend and Montgomery counties, bordering other principal communities of Greater Houston such as Sugar Land and The Woodlands.\n",
    "\n",
    "The city of Houston was founded by land investors on August 30, 1836,[7] at the confluence of Buffalo Bayou and White Oak Bayou (a point now known as Allen's Landing)[8] and incorporated as a city on June 5, 1837.[9] The city is named after former General Sam Houston, who was president of the Republic of Texas and had won Texas' independence from Mexico at the Battle of San Jacinto 25 miles (40 km) east of Allen's Landing.[9] After briefly serving as the capital of the Texas Republic in the late 1830s, Houston grew steadily into a regional trading center for the remainder of the 19th century.[10]\n",
    "\n",
    "The arrival of the 20th century saw a convergence of economic factors which fueled rapid growth in Houston, including a burgeoning port and railroad industry, the decline of Galveston as Texas' primary port following a devastating 1900 hurricane, the subsequent construction of the Houston Ship Channel, and the Texas oil boom.[10] In the mid-20th century, Houston's economy diversified as it became home to the Texas Medical Center—the world's largest concentration of healthcare and research institutions—and NASA's Johnson Space Center, where the Mission Control Center is located.\n",
    "\n",
    "Houston's economy since the late 19th century has a broad industrial base in energy, manufacturing, aeronautics, and transportation. Leading in healthcare sectors and building oilfield equipment, Houston has the second most Fortune 500 headquarters of any U.S. municipality within its city limits (after New York City).[11][12] The Port of Houston ranks first in the United States in international waterborne tonnage handled and second in total cargo tonnage handled.[13] Nicknamed the \"Bayou City\" \"Space City”, \"H-Town\", and “the 713”, Houston has become a global city, with strengths in culture, medicine, and research. The city has a population from various ethnic and religious backgrounds and a large and growing international community. Houston is the most diverse metropolitan area in Texas and has been described as the most racially and ethnically diverse major metropolis in the U.S.[14] It is home to many cultural institutions and exhibits, which attract more than 7 million visitors a year to the Museum District. Houston has an active visual and performing arts scene in the Theater District and offers year-round resident companies in all major performing arts.[15]\n",
    "\n",
    "Houston is recognized worldwide for its energy industry—particularly for oil and natural gas—as well as for biomedical research and aeronautics. Renewable energy sources—wind and solar—are also growing economic bases in the city.[144][145] The Houston Ship Channel is also a large part of Houston's economic base. Because of these strengths, Houston is designated as a global city by the Globalization and World Cities Study Group and Network and global management consulting firm A.T. Kearney.[12] The Houston area is the top U.S. market for exports, surpassing New York City in 2013, according to data released by the U.S. Department of Commerce's International Trade Administration. In 2012, the Houston–The Woodlands–Sugar Land area recorded $110.3 billion in merchandise exports.[146] Petroleum products, chemicals, and oil and gas extraction equipment accounted for roughly two-thirds of the metropolitan area's exports last year. The top three destinations for exports were Mexico, Canada, and Brazil.[147]"
   ]
  },
  {
   "cell_type": "markdown",
   "metadata": {},
   "source": [
    "### BUSINESS PROBLEM\n",
    "\n",
    "The main idea behind the project is to analyse the restaurant chains in the Bay Area near\n",
    "the tech companies and to look for the areas where a successful restaurant business can be\n",
    "started. The other objective of the project is to pay special attention to the restaurant\n",
    "cuisine. Some neighbourhoods might already have a large number of same cuisine\n",
    "restaurants. Starting a restaurant in such an area won’t be much profitable. So to explain\n",
    "the project in an abstract, it aims at analysing the restaurants and in particular the cuisine\n",
    "of the restaurant near the Bay Area and to find out the best possible neighbourhood for\n",
    "opening a restaurant."
   ]
  },
  {
   "cell_type": "markdown",
   "metadata": {},
   "source": [
    "### Target Audience\n",
    "The project is beneficial to anyone who is looking to start a new restaurant business\n",
    "in the Bay Area. The audience is quite large and includes the big food supply\n",
    "brands like McDonalds and the Cheesecake Factory. The project can also benefit\n",
    "already running restaurants to shift to some other cuisine for better business\n",
    "prospects."
   ]
  },
  {
   "cell_type": "markdown",
   "metadata": {},
   "source": [
    "## Data"
   ]
  },
  {
   "cell_type": "markdown",
   "metadata": {},
   "source": [
    "The data requirements include:\n",
    "List of all the tech companies\n",
    "The coordinates of the offices\n",
    "The list of all the restaurants near the offices using Foursquare API\n",
    "\n",
    "### How the data will be used to solve the problem?\n",
    "Firstly, the data will be cleaned to get the list of some of the companies of the area. After\n",
    "the pre-processing, the list of the offices will be used to explore the venues near the offices\n",
    "within the radius of 1000 using the Foursquare API. The venues will be filtered to obtain\n",
    "the list of the restaurants in the region. Then using KMeans clustering and data\n",
    "visualisation using Folium, a clear idea will be obtained on where to start the next\n",
    "restaurant business. The clusters’ evaluation will describe the best possible regions\n",
    "to open which particular cuisine restaurants.\n",
    "\n",
    "### Data acquisition source\n",
    "https://github.com/namanmanchanda09/tech-companies-bay-area/blob/master/Bay-\n",
    "Area-Companies-List.csv\n",
    "The Bay Area companies list is an open source list created by Mr. Connor Leech (https://\n",
    "github.com/connor11528) and is available on Github. The repo has been forked from Mr.\n",
    "Connor for the purpose of analysis and visualisation. The .csv file has been uploaded on\n",
    "IBM cloud and will be used for the analysis."
   ]
  },
  {
   "cell_type": "code",
   "execution_count": null,
   "metadata": {},
   "outputs": [],
   "source": []
  }
 ],
 "metadata": {
  "kernelspec": {
   "display_name": "Python 3",
   "language": "python",
   "name": "python3"
  },
  "language_info": {
   "codemirror_mode": {
    "name": "ipython",
    "version": 3
   },
   "file_extension": ".py",
   "mimetype": "text/x-python",
   "name": "python",
   "nbconvert_exporter": "python",
   "pygments_lexer": "ipython3",
   "version": "3.6.7"
  }
 },
 "nbformat": 4,
 "nbformat_minor": 2
}

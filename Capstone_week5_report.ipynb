{
 "cells": [
  {
   "cell_type": "markdown",
   "metadata": {},
   "source": [
    "<h1><center> Capstone Report (Week5): The Battle of Neighborhoods in Houston -- Restaurants  </center></h1>\n",
    "<h2><center> Capstone Project for IBM Data Science Professional Certificate </center></h2>\n",
    "<h3><center> Wenjun Hu, 02/22/2020 </center></h2>"
   ]
  },
  {
   "cell_type": "markdown",
   "metadata": {},
   "source": [
    "<img src=\"figures/skyline-houston.jpg\" title=\"Houston\"/>"
   ]
  },
  {
   "cell_type": "markdown",
   "metadata": {},
   "source": [
    "## Table of contents\n",
    "* [A. Introduction](#introduction)\n",
    "* [B. Data](#data)\n",
    "* [C. Methods](#methods)\n",
    "* [D. Results](#results)\n",
    "* [E. Discussions](#discussions)\n",
    "* [F. Conclusions](#conclusions)\n",
    "* [References](#ref)\n",
    "* [Supplemental Material](#supp)"
   ]
  },
  {
   "cell_type": "markdown",
   "metadata": {},
   "source": [
    "## A. Introduction <a name=\"introduction\"></a>"
   ]
  },
  {
   "cell_type": "markdown",
   "metadata": {},
   "source": [
    "_**Houston**_ is the fourth most populous city in the USA, located in the state of Texas with the population more than 2.3 million. It is recognized worldwide for its oil and natural gas industry and biomedical research, such as the MD Anderson Cancer Center, as well as the famous National Aeronautics and Space Administration (NASA). [[1](#1)] Besides, Houston is a kid-friendly city with the Houston zoo, many beautiful parks, and different kinds of museums. It's also a foodie-friendly city with restaurants of versatile styles and anyone can find his/her preferred ones in this city. In such a big city, how to find neighborhoods that fulfill your needs? If one wants to start a business, such as opening a restaurant, in Houston, how to choose a suitable location?"
   ]
  },
  {
   "cell_type": "markdown",
   "metadata": {},
   "source": [
    "### A1. Business Problem\n",
    "In this project, I will study the neighborhoods in Houston, especially the restaurants. I will try to find popular restaurants and possible candidate locations for opening a restaurant. Since there are many restaurants already in Houston, my goal will be to identify locations that are not crowded with restaurants of particular interest. Particularly, a location that doesn't have that kind of restaurants yet will be the most promising candidate. And the population should be another element that should be considered. I will use the neighborhood data to generate the most promising neighborhoods as the candidates based on the above criteria. Also, I will clearly discuss the advantages and disadvantages of each candidate, so the stakeholders can choose the best possible locations."
   ]
  },
  {
   "cell_type": "markdown",
   "metadata": {},
   "source": [
    "### A2. Target Audience\n",
    "This project can benefit people who want to open a restaurant business in Houston. Also, this project can give suggestions to the running restaurants to better organize their business, such as continuing or expanding the current restaurant or shifting to another cuisine."
   ]
  },
  {
   "cell_type": "markdown",
   "metadata": {},
   "source": [
    "## B. Data <a name=\"data\"></a>"
   ]
  },
  {
   "cell_type": "markdown",
   "metadata": {},
   "source": [
    "The required data include:\n",
    "+ List of all the neighborhoods in Houston\n",
    "+ Locations for each neighborhood\n",
    "+ Population data for each neighborhood\n",
    "+ List of all the restaurants in Houston"
   ]
  },
  {
   "cell_type": "markdown",
   "metadata": {},
   "source": [
    "### B1. Data Sources <a name=\"data_b1\"></a>\n",
    "+ The super neighborhoods can be found from the website https://cohgis-mycity.opendata.arcgis.com/datasets/coh-super-neighborhoods?geometry=-97.372%2C29.406%2C-93.458%2C30.240&page=9 [[2](#2)]\n",
    "\n",
    "+ The locations of latitude and longitude for each super neighborhood can be obtained from Google through the library \"_geopy.geocoders_\".\n",
    "\n",
    "+ The population data of each super neighborhood can be grabbed from a pdf file from the website http://www.houstontx.gov/planning/Demographics/docs_pdfs/SN/Age_Total_Population.pdf [[3](#3)]\n",
    "\n",
    "+ The list of all the restaurants for each super neighborhood can be obtained by using Foursquare API https://developer.foursquare.com [[4](#4)]"
   ]
  },
  {
   "cell_type": "markdown",
   "metadata": {},
   "source": [
    "### B2. How the data will be used to solve the problem?\n",
    "First of all, the super neighborhoods will be grabbed from the website of \"cohgis-mycity.opendata.arcgis.com\". Then the locations of latitudes and longitudes will be obtained by \"_geopy.geocoders_\" from Google. Together with the population data of each super neighborhood, a dataframe will be created. After these pre-processing, I will use the Foursquare API to get all venues for each super neighborhood, for which I will select all the venues with a category containing \"Restaurant\". By using the K-means clustering, I will analyze all restaurants in Houston and visualize the locations of different clusters on the Houston map. Through these analyses, I can have a clear idea for the candidate locations to open a new restaurant business."
   ]
  },
  {
   "cell_type": "markdown",
   "metadata": {},
   "source": [
    "### B3. Datasets"
   ]
  },
  {
   "cell_type": "markdown",
   "metadata": {},
   "source": [
    "Table I is the DataFrame for all super neighborhoods in Houston, which includes names, latitudes, longitudes, and populations. There is a total of 90 super neighborhoods, among which 88 super neighborhoods are from the websites in [B1. Data Sources](#data_b1) and I added two super neighborhoods: \"Chinatown\", which has many Chinese restaurants and is important for my later analysis, and \"Energy Corridor\" includes many oil & gas companies."
   ]
  },
  {
   "cell_type": "markdown",
   "metadata": {},
   "source": [
    "<center> Table I: The DataFrame of all Super Neighborhoods in Houston </center>\n",
    "<img src=\"figures/data_neighborhoods.png\" title=\"data_neighborhoods\"/>"
   ]
  },
  {
   "cell_type": "markdown",
   "metadata": {},
   "source": [
    "Table II is the DataFrame for a total of 2369 venues, obtained by Foursquare API. I will select the venues with categories containing \"Restaurant\" to do analysis, and there is a total of 534 relevant venues with 45 categories."
   ]
  },
  {
   "cell_type": "markdown",
   "metadata": {},
   "source": [
    "<center> Table II: The DataFrame of all Venues</center>\n",
    "<img src=\"figures/data_venues.png\" title=\"data_venues\"/>"
   ]
  },
  {
   "cell_type": "markdown",
   "metadata": {},
   "source": [
    "## C. Methods <a name=\"methods\"></a>"
   ]
  },
  {
   "cell_type": "markdown",
   "metadata": {},
   "source": [
    "In this project, I will study the business of restaurants in Houston. Since there are many restaurants in Houston, I will group them into several clusters by the K-Means Clustering method that I can easily analyze them.\n",
    "\n",
    "In the second step, I will build the Houston map by the Folium and use the data of the latitudes and longitudes to illustrate the locations for each cluster of restaurants in the Houston map. This map will tell us the regions with the high and low density of restaurants.\n",
    "\n",
    "For the regions with high restaurant density, I will try to understand the reason for many restaurants gathering together. Also, I will give suggestions for their business or even the possibility of opening a new restaurant. Furthermore, I will focus on the low-density regions to find the optimal venue location to start a new restaurant business for stakeholders."
   ]
  },
  {
   "cell_type": "markdown",
   "metadata": {},
   "source": [
    "## D. Results <a name=\"results\"></a>"
   ]
  },
  {
   "cell_type": "markdown",
   "metadata": {},
   "source": [
    "I start to show my results with the Houston map with all super neighborhoods in Figure 1. I divide super neighborhoods into three groups: Group 1 with a population larger than 50000, Group 2 with a population less than 10000, and Group 3 with a population between 10000 and 50000. It is clear to see that Group 3 has the most number of super neighborhoods."
   ]
  },
  {
   "cell_type": "markdown",
   "metadata": {},
   "source": [
    "<img src=\"figures/fig_neighborhoods.png\" title=\"fig_neighborhoods\"/>\n",
    "Figure 1: Super Neighborhoods in Houston. All super neighborhoods are divided into three groups: Blue Markers for Populations >= 50000, Red Markers for 50000 > Populations >= 10000, and Green Markers for Populations < 10000. The size of markers is used to demonstrate the number of populations of super neighborhoods."
   ]
  },
  {
   "cell_type": "markdown",
   "metadata": {},
   "source": [
    "### D1. K-Means Clustering"
   ]
  },
  {
   "cell_type": "markdown",
   "metadata": {},
   "source": [
    "Since there are many restaurants in Houston, in order to better analyze this business, I decide to use the K-Means Clustering method to group all data of restaurants into several clusters according to their locations and categories. In Figure 2, I show the Elbow point that I found by changing the number of clusters. It is obvious to find the optimal k=5, meaning 5 clusters after the K-Means Clustering."
   ]
  },
  {
   "cell_type": "markdown",
   "metadata": {},
   "source": [
    "<img src=\"figures/elbow.png\" title=\"elbow_point\"/>\n",
    "<center> Figure 2: Elbow Point for the K-Means Clustering. </center>"
   ]
  },
  {
   "cell_type": "markdown",
   "metadata": {},
   "source": [
    "I list all clusters in the following:"
   ]
  },
  {
   "cell_type": "markdown",
   "metadata": {},
   "source": [
    "<img src=\"figures/tab_clusters.png\" title=\"5clusters\"/>"
   ]
  },
  {
   "cell_type": "markdown",
   "metadata": {},
   "source": [
    "### D2. Houston Map with 5 Clusters <a name=\"d2\"></a>"
   ]
  },
  {
   "cell_type": "markdown",
   "metadata": {},
   "source": [
    "Figure 3 shows the main results of the Houston map with 5 Clusters of all restaurants. In this map, I use 12 ovals to mark 12 places with high restaurant density. The size of markers indicates the populations of the super neighborhoods that the restaurants located. However, I don't find the direct connection between the population and the restaurant density. There should be other reasons for the high density of restaurants in these 12 ovals. \n",
    "\n",
    "After carefully examing these 12 ovals, I realize two special regions, including Oval 8 as the Downtown of Houston and Oval 6 as the Texas Medical Center. Since there are a lot of people work in these two super neighborhoods, it is easy to understand that Ovals 6, 7, and 8 have a high density of restaurants. \n",
    "\n",
    "I still need to dig deeper to understand other ovals. So I select all shopping malls in my data of venues and make Figure 4. Interestingly, I find six shopping malls in Houston corresponding to six ovals with the high restaurant density: Oval 2 with the \"_Dun Huang Plaza_\" in Chinatown, Oval 5 with the \"_Rice Village_\" in University Place, Oval 9 with the \"_19th Street Shopping Strip_\" in The Heights, Oval 10 with the \"_Gulfgate Mallin_\" in Pecan Park, Oval 11 with the \"_Meyer Park Shopping Center_\" in Willow Meadows, and Oval 12 with the Northline Commons in Independence Heights. Actually, there is one famous shopping mall \"_Galileo_\" in Uptown missing in my searching of venues by Foursquare API, which locates just below Oval 4. Apparently, those high-restaurant-density regions are due to shopping malls. \n",
    "\n",
    "The last high-restaurant-density region that I can understand is Oval 1, which locates in the super neighborhood Little Saigon. According to the description in Wikipedia [[5](#5)], since the 2000s, together with Chinatown, this area has become a top destination in the restaurant industry, and many of Houston's most iconic Vietnamese restaurants are located in this area."
   ]
  },
  {
   "cell_type": "markdown",
   "metadata": {},
   "source": [
    "<img src=\"figures/fig_clusters.png\" title=\"fig_5clusters\"/>\n",
    "Figure 3: Houston Map with 5 Clusters of Restaurants. The K-Means Clustering divides all restaurants into five groups: Orange Markers for Cluster 0, Red Markers for Cluster 1, Blue Markers for Cluster 2, Green Markers for Cluster 3, and Purple Markers for Cluster 4. The size of markers is used to demonstrate the number of populations of super neighborhoods. The 12 ovals show 12 regions with a high density of restaurants. The 2 red rectangles are the regions with a low density of restaurants."
   ]
  },
  {
   "cell_type": "markdown",
   "metadata": {},
   "source": [
    "<img src=\"figures/shoppingmall.png\" title=\"mall\"/>\n",
    "<center> Figure 4: Houston Map with Shopping Malls. The red point is for the shopping mall \"_Galileo_\" in Uptown. </center>"
   ]
  },
  {
   "cell_type": "markdown",
   "metadata": {},
   "source": [
    "In Figure 5, I plot each cluster of restaurants in Houston map, which show more details for the locations of each cluster. For example, most of the restaurants in Cluster 3 are in Chinatown (Oval 2). Differently, most of the restaurants in Cluster 4 are in the super neighborhoods close to Downtown (Oval 5, 7, and 8)."
   ]
  },
  {
   "cell_type": "markdown",
   "metadata": {},
   "source": [
    "<img src=\"figures/fig_cluster01234.png\" title=\"cluster01234\"/>\n",
    "<center> Figure 5: Houston Maps with Each Cluster of Restaurants. </center>"
   ]
  },
  {
   "cell_type": "markdown",
   "metadata": {},
   "source": [
    "## E. Discussions <a name=\"discussions\"></a>"
   ]
  },
  {
   "cell_type": "markdown",
   "metadata": {},
   "source": [
    "According to the analysis of the main results in [D2. Houston Map with 5 Clusters](#d2), I find that most of the regions with the high density of restaurants are directly relatted to the shopping malls in Houston. For these high-restaurant-density regions, I have the following suggestions:  \n",
    "* Oval 4 in Uptown, Oval 6 in Texas Medical Center, Oval 9 in The Heights, and Oval 11 in Willow Meadows have most restaurants of Cluster 0. I suggest increasing the restaurants of Clusters 1, 2, 3, and 4 in these super neighborhoods.\n",
    "* For Oval 5 in University Place and Upper Kirby Area, I suggest increasing the restaurants of Cluster 3.\n",
    "* For Oval 10 in Pecan Park, I suggest increasing the restaurants of both Clusters 3 and 4.\n",
    "* For Oval 12 in Independence Heights, I suggest increasing the restaurants of Clusters 0.  \n",
    "\n",
    "There are two special regions: Oval 1 in Little Saigon with Vietnamese businesses and Oval 2 in Chinatown, and definitely the Vietnamese and Chinese restaurants are still better suggestions for these two regions. Because they are already famous for the Vietnamese and Chinese food, for which most people in Houston visit these two regions.  \n",
    "\n",
    "After carefully analyzing and searching the Houston map, I find two regions with a low restaurant density that can be candidates for opening a new restaurant business. I mark them in red rectangles in Figure 3: Rectangle a is below the shopping mall \"_Galileo_\" (Oval 4), and Rectangle b is not far from the shopping mall \"_Gulfgate Mallin_\" (Oval 10). In addition, these two regions are both close to the Loop 610 Highway, which is easy to reach."
   ]
  },
  {
   "cell_type": "markdown",
   "metadata": {},
   "source": [
    "## F. Conclusions <a name=\"conclusions\"></a>"
   ]
  },
  {
   "cell_type": "markdown",
   "metadata": {},
   "source": [
    "In this project, I have collected all venues for super neighborhoods in Houston and selected the venues with categories including \"Restaurant\". Then I have used the K-Means Clustering method to make all these restaurants into five clusters and marked these five clusters in Houston map. I have found twelve high-restaurant-density regions, for which I have dug and explained the reason for high density. According to my main results, I have given several suggestions for the restaurant business in the high-restaurant-density regions. Finally, I have pointed out two candidate regions for opening a new restaurant."
   ]
  },
  {
   "cell_type": "markdown",
   "metadata": {},
   "source": [
    "  ## References <a name=\"ref\"></a>"
   ]
  },
  {
   "cell_type": "markdown",
   "metadata": {},
   "source": [
    "[1] https://en.wikipedia.org/wiki/Houston <a name=\"1\"></a>  \n",
    "[2] https://cohgis-mycity.opendata.arcgis.com/ <a name=\"2\"></a>  \n",
    "[3] http://www.houstontx.gov <a name=\"3\"></a>  \n",
    "[4] https://foursquare.com <a name=\"4\"></a>  \n",
    "[5] https://en.wikipedia.org/wiki/Little_Saigon,_Houston <a name=\"5\"></a>  "
   ]
  },
  {
   "cell_type": "markdown",
   "metadata": {},
   "source": [
    "## Supplemental Material <a name=\"supp\"></a>"
   ]
  },
  {
   "cell_type": "markdown",
   "metadata": {},
   "source": [
    "In order to make better typesetting, I use the library \"_IPython.core.display_\", which may not work in Github. Please use \"_nbviewer_\" for this report in the following link:  \n",
    "https://nbviewer.jupyter.org/github/phyhuhu/Coursera_Capstone/blob/master/Capstone_week5_report.ipynb\n",
    "\n",
    "The Jupyter Notebook with codes for this project is in the following link:  \n",
    "https://nbviewer.jupyter.org/github/phyhuhu/Coursera_Capstone/blob/master/Capstone_week5_notebook.ipynb"
   ]
  },
  {
   "cell_type": "code",
   "execution_count": 10,
   "metadata": {
    "hideCode": true,
    "hideOutput": true,
    "hidePrompt": true
   },
   "outputs": [
    {
     "data": {
      "text/html": [
       "\n",
       "<style>\n",
       "\n",
       "div.cell { /* Tunes the space between cells */\n",
       "margin-top:0.2em;\n",
       "margin-bottom:0.2em;\n",
       "}\n",
       "\n",
       "div.text_cell_render h1 { /* Main titles bigger, centered */\n",
       "font-size: 2.2em;\n",
       "line-height:1.4em;\n",
       "text-align:center;\n",
       "}\n",
       "\n",
       "div.text_cell_render h2 { /*  Parts names nearer from text */\n",
       "margin-bottom: -0.4em;\n",
       "}\n",
       "\n",
       "div.text_cell_render { /* Customize text cells */\n",
       "font-family: 'Times New Roman';\n",
       "font-size:1.5em;\n",
       "line-height:1.0em;\n",
       "padding-left:2em;\n",
       "padding-right:2em;\n",
       "}\n",
       "\n",
       "</style>\n"
      ],
      "text/plain": [
       "<IPython.core.display.HTML object>"
      ]
     },
     "execution_count": 10,
     "metadata": {},
     "output_type": "execute_result"
    }
   ],
   "source": [
    "# code for the typesetting:\n",
    "from IPython.core.display import HTML\n",
    "HTML(\"\"\"\n",
    "<style>\n",
    "\n",
    "div.cell { /* Tunes the space between cells */\n",
    "margin-top:0.2em;\n",
    "margin-bottom:0.2em;\n",
    "}\n",
    "\n",
    "div.text_cell_render h1 { /* Main titles bigger, centered */\n",
    "font-size: 2.2em;\n",
    "line-height:1.4em;\n",
    "text-align:center;\n",
    "}\n",
    "\n",
    "div.text_cell_render h2 { /*  Parts names nearer from text */\n",
    "margin-bottom: -0.4em;\n",
    "}\n",
    "\n",
    "div.text_cell_render { /* Customize text cells */\n",
    "font-family: 'Times New Roman';\n",
    "font-size:1.5em;\n",
    "line-height:1.0em;\n",
    "padding-left:2em;\n",
    "padding-right:2em;\n",
    "}\n",
    "\n",
    "</style>\n",
    "\"\"\")"
   ]
  }
 ],
 "metadata": {
  "kernelspec": {
   "display_name": "Python 3",
   "language": "python",
   "name": "python3"
  },
  "language_info": {
   "codemirror_mode": {
    "name": "ipython",
    "version": 3
   },
   "file_extension": ".py",
   "mimetype": "text/x-python",
   "name": "python",
   "nbconvert_exporter": "python",
   "pygments_lexer": "ipython3",
   "version": "3.6.7"
  }
 },
 "nbformat": 4,
 "nbformat_minor": 2
}

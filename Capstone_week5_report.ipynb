{
 "cells": [
  {
   "cell_type": "markdown",
   "metadata": {},
   "source": [
    "<h1><center> Capstone Report (Week5): The Battle of Neighborhoods in Houston -- Restaurants  </center></h1>\n",
    "<h2><center> Capstone Project for IBM Data Science Professional Certificate </center></h2>\n",
    "<h3><center> Wenjun Hu, 02/22/2020 </center></h2>"
   ]
  },
  {
   "cell_type": "markdown",
   "metadata": {},
   "source": [
    "<img src=\"figures/skyline-houston.jpg\" title=\"Houston\"/>"
   ]
  },
  {
   "cell_type": "markdown",
   "metadata": {},
   "source": [
    "## Table of contents\n",
    "* [A. Introduction](#introduction)\n",
    "* [B. Data](#data)\n",
    "* [C. Methodology](#methodology)\n",
    "* [D. Results](#results)\n",
    "* [E. Discussions & Conclusions](#dis_con)\n",
    "* [References](#ref)\n",
    "* [Supplemental Material](#supp)"
   ]
  },
  {
   "cell_type": "markdown",
   "metadata": {},
   "source": [
    "## A. Introduction <a name=\"introduction\"></a>"
   ]
  },
  {
   "cell_type": "markdown",
   "metadata": {},
   "source": [
    "_**Houston**_ is the fourth most populous city in the USA, located in the state of Texas with the population more than 2.3 million. It is recognized worldwide for its oil and natural gas industry and biomedical research, such as the MD Anderson Cancer Center, as well as the famous National Aeronautics and Space Administration (NASA). [[1](#1)] Besides, Houston is a kid-friendly city with the Houston zoo, many beatiful parks, and different kinds of museums. It's also a foodie-friendly city with restaurants of versatile styles and anyone can find his/her prefered ones in this city. In such a big city, how to find neighborhoods that fulfill your needs? If one wants to start a business, such as opening a restaurant, in Houston, how to choose the suitable location?"
   ]
  },
  {
   "cell_type": "markdown",
   "metadata": {},
   "source": [
    "### A1. Business Problem\n",
    "In this project, I will study the neighborhoods in Houston, especially the restaurants. I will try to find the popular restaurants and possible candidate locations for opening a restaurant. Since there are many restaurants already in Houston, my goal will be to identify locations that are not crowded with restaurants of particular interest. Particularly, a location that doesn't have that kind of restaurants yet will be the most promising candidate. And the population should be another element that should be considered. I will use the neighborhood data to generate the most promissing neighborhoods as the candidates based on the above criteria. Also I will clearly discuss the advantages and disadvantages of each candidates, so the stakeholders can choose the best possible locations."
   ]
  },
  {
   "cell_type": "markdown",
   "metadata": {},
   "source": [
    "### A2. Target Audience\n",
    "This project can benefit people who want to open a restaurant business in Houston. Also, this project can give suggestions to the running restaurants to better organize their business, such as continuing or expanding current restaurant or shifting to another cuisine."
   ]
  },
  {
   "cell_type": "markdown",
   "metadata": {},
   "source": [
    "## B. Data <a name=\"data\"></a>"
   ]
  },
  {
   "cell_type": "markdown",
   "metadata": {},
   "source": [
    "The required data include:\n",
    "+ List of all the neighborhoods in Houston\n",
    "+ Locations for each neighborhood\n",
    "+ Population data for each neighborhood\n",
    "+ List of all the restaurants in Houston"
   ]
  },
  {
   "cell_type": "markdown",
   "metadata": {},
   "source": [
    "### B1. Data Sources <a name=\"data_b1\"></a>\n",
    "+ The super neighborhoods can be found from the website https://cohgis-mycity.opendata.arcgis.com/datasets/coh-super-neighborhoods?geometry=-97.372%2C29.406%2C-93.458%2C30.240&page=9 [[2](#2)]\n",
    "\n",
    "+ The locations of latitude and longitude for each super neighborhood can be obtained from Google through libary \"_geopy.geocoders_\".\n",
    "\n",
    "+ The population data of each super neighborhood can be grabed from a pdf file from the website http://www.houstontx.gov/planning/Demographics/docs_pdfs/SN/Age_Total_Population.pdf [[3](#3)]\n",
    "\n",
    "+ The list of all the restaurants for each super neighborhood can be obtained by using Foursquare API https://developer.foursquare.com [[4](#4)]"
   ]
  },
  {
   "cell_type": "markdown",
   "metadata": {},
   "source": [
    "### B2. How the data will be used to solve the problem?\n",
    "First of all, the super neighborhoods will be grabbed from the website of \"cohgis-mycity.opendata.arcgis.com\". Then the locations of latitudes and longitudes will be obtained by \"geopy.geocoders\" from Google. Together with the population data of each super neighborhood, a dataframe will be created. After these pre-processing, I will use the Foursquare API to get all venues for each super neighborhood, for which I will select all the venues with category containing \"Restaurant\". By using the K-means clustering, I will analyze all restaurants in Houston and visulize the locations of different clusters on Houston map. Through these analysis, I can have clear idea for the candidate locations where to open a new restaurant business."
   ]
  },
  {
   "cell_type": "markdown",
   "metadata": {},
   "source": [
    "### B3. Datasets"
   ]
  },
  {
   "cell_type": "markdown",
   "metadata": {},
   "source": [
    "Thable I is the DataFrame for all super neighborhoods in Houston, which includes names, latitudes, longitudes, and populations. There are total 90 super neighborhoods, among which 88 super neighborhoods are from the websites in [B1. Data Sources](#data_b1), and I added two super neighborhoods: \"Chinatown\", which has many Chinese restaurants and is important for my later analysis, and \"Energy Corridor\" includes many oil & gas companies."
   ]
  },
  {
   "cell_type": "markdown",
   "metadata": {},
   "source": [
    "<center> Table I: The DataFrame of all Super Neighborhoods in Houston </center>\n",
    "<img src=\"figures/data_neighborhoods.png\" title=\"data_neighborhoods\"/>"
   ]
  },
  {
   "cell_type": "markdown",
   "metadata": {},
   "source": [
    "Thable II is the DataFrame for total 2369 venues, obtained by Foursquare API. I will select the venues with categories containing \"_Restaurant_\" to do analysis, and there are total 534 relavent venues with 45 categories."
   ]
  },
  {
   "cell_type": "markdown",
   "metadata": {},
   "source": [
    "<center> Table II: The DataFrame of all Venues</center>\n",
    "<img src=\"figures/data_venues.png\" title=\"data_venues\"/>"
   ]
  },
  {
   "cell_type": "markdown",
   "metadata": {},
   "source": [
    "## C. Methodology <a name=\"methodology\"></a>"
   ]
  },
  {
   "cell_type": "markdown",
   "metadata": {},
   "source": [
    "In this project I will study the business of restaurants in Houston. Since there are many restaurants in Houston, I will group them into several clusters by the K-Means Clustering method that I can easily analyze them.\n",
    "\n",
    "In the second step, I will build the Houston map by the Folium and use the data of the latitudes and longitudes to illustrate the loations for each cluster of restaurants in the Houston map. This map will tell us the regions with the high and low density of restaurants.\n",
    "\n",
    "For the regions with high restaurant density, I will try to understand the reason for many restaurants gathering tegother. Also, I will give suggestions for their business or even the possibility of opening a new restaurant. Furthermore, I will focus on the low-density regions to find the optimal venue location to start a new restaurant business for stakeholders."
   ]
  },
  {
   "cell_type": "markdown",
   "metadata": {},
   "source": [
    "## D. Results <a name=\"results\"></a>"
   ]
  },
  {
   "cell_type": "markdown",
   "metadata": {},
   "source": [
    "I start to show my results with the Houston map with all super neighborhoods in Figure 1. I divide super neighborhoods into three groups: Group 1 with population larger than 50000, Group 2 with population less than 10000, and Group 3 with population between 10000 and 50000. It is clearly to see that Group 3 has most number of super neighborhoods."
   ]
  },
  {
   "cell_type": "markdown",
   "metadata": {},
   "source": [
    "<img src=\"figures/fig_neighborhoods.png\" title=\"fig_neighborhoods\"/>\n",
    "Figure 1: Super Neighborhoods in Houston. All super neighborhoods are divided into three groups: Blue Markers for Populations >= 50000, Red Markers for 50000 > Populations >= 10000, and Green Markers for Populations < 10000. The size of markers is used to emostrate the number of populations of super neighborhoods."
   ]
  },
  {
   "cell_type": "markdown",
   "metadata": {},
   "source": [
    "### D1. K-Means Clustering"
   ]
  },
  {
   "cell_type": "markdown",
   "metadata": {},
   "source": [
    "Since ther are many restaurants in Houston, in order to better analyze this business, I decide to use the K-Means Clustering method to group all data of restaurants into several clusters according to their locations and categories. In Figure 2, I show the Elboe point that I found by changing the number of clusters. It is obviously to find the optimal k=5, meaning 5 clusters after the K-Means Clustering."
   ]
  },
  {
   "cell_type": "markdown",
   "metadata": {},
   "source": [
    "<img src=\"figures/elbow.png\" title=\"elbow_point\"/>\n",
    "<center> Figure 2: Elbow Point for the K-Means Clustering. </center>"
   ]
  },
  {
   "cell_type": "markdown",
   "metadata": {},
   "source": [
    "I list all clusters in the following:"
   ]
  },
  {
   "cell_type": "markdown",
   "metadata": {},
   "source": [
    "<img src=\"figures/tab_clusters.png\" title=\"5clusters\"/>"
   ]
  },
  {
   "cell_type": "markdown",
   "metadata": {},
   "source": [
    "### D2. Houston Map with 5 Clusters"
   ]
  },
  {
   "cell_type": "markdown",
   "metadata": {},
   "source": [
    "Figure 3 shows the main results of the Hoyston map with 5 Clusters of all restaurants. In this map, I use 12 ovals to mark 12 places with high restaurant density. The size of markers indicates the populations of the super neighborhoods that the restaurants locate. However, I don't find the direct connection between the population and the restaurant density. There should be other reasons for the high density of restaurants in these 12 regions.  \n",
    "\n",
    "After carefully examing these 12 regions, I realize two special regions, including Region 8 as the Downtown of Houston and Region 6 as the Texas Medical Center. There are a lot of people work in these two super neighborhoods. So it is easy to understand that Regions 6, 7, and 8 have the high density of restaurants.  \n",
    "\n",
    "I still need to dig deeper to understand other regions. So I select all shopping malls in my data of venues and make Figure 4. Interestingly, I find six shopping malls in Houston corresponding to six regions with the high restaurant density: Region 2 with the _Dun Huang Plaza_ in Chinatown, Region 5 with the _Rice Village_ in University Place, Region 9 with the _19th Street Shopping Strip_ in The Heights, Region 10 with the _Gulfgate Mall_ in Pecan Park, Region 11 with the _Meyer Park Shopping Center_ in Willow Meadows, and Region 12 with the _Northline Commons_ in Independence Heights. Actually, there is one famous shopping mall \"_Galileo_\" in Uptown missing in my searching of venues by Foursquare API, which locats just below Region 4. Apperantly, those high-restaurant-density regions are due to shopping malls.  \n",
    "\n",
    "Last high-restaurant-density region that I can understand is Region 1, which locates in the super neighborhood Little Saigon. According to the description in Wikipedia [[5](#5)], since the 2000s, this area has become a top destination in the restaurant industry, and many of Houston's most iconic Vietnamese restaurants are located in this area."
   ]
  },
  {
   "cell_type": "markdown",
   "metadata": {},
   "source": [
    "<img src=\"figures/fig_clusters.png\" title=\"fig_5clusters\"/>\n",
    "Figure 3: Houston Map with 5 Clusters of Restaurants. The K-Means Clustering divide all restaurants into five groups: Orange Markers for Cluster 0, Red Markers for Cluster 1, Blue Markers for Cluster 2, Green Markers for Cluster 3, and Purple Markers for Cluster 4. The size of markers is used to emostrate the number of populations of super neighborhoods. The 12 ovals show 12 regions with high density of restaurants. The 2 red retangulars are the regions with low density of restaurants."
   ]
  },
  {
   "cell_type": "markdown",
   "metadata": {},
   "source": [
    "<img src=\"figures/shoppingmall.png\" title=\"mall\"/>\n",
    "<center> Figure 4: Houston Map with Shopping Malls. </center>"
   ]
  },
  {
   "cell_type": "markdown",
   "metadata": {},
   "source": [
    "<img src=\"figures/fig_cluster01234.png\" title=\"cluster01234\"/>\n",
    "<center> Figure 5: Houston Maps with Each Cluster of Restaurants. </center>"
   ]
  },
  {
   "cell_type": "markdown",
   "metadata": {},
   "source": [
    "## E. Discussions & Conclusions <a name=\"dis_con\"></a>"
   ]
  },
  {
   "cell_type": "markdown",
   "metadata": {},
   "source": [
    "  ## References <a name=\"ref\"></a>"
   ]
  },
  {
   "cell_type": "markdown",
   "metadata": {},
   "source": [
    "[1] https://en.wikipedia.org/wiki/Houston <a name=\"1\"></a>  \n",
    "[2] https://cohgis-mycity.opendata.arcgis.com/ <a name=\"2\"></a>  \n",
    "[3] http://www.houstontx.gov <a name=\"3\"></a>  \n",
    "[4] https://foursquare.com <a name=\"4\"></a>  \n",
    "[5] https://en.wikipedia.org/wiki/Little_Saigon,_Houston <a name=\"5\"></a>  "
   ]
  },
  {
   "cell_type": "markdown",
   "metadata": {},
   "source": [
    "## Supplemental Material <a name=\"supp\"></a>"
   ]
  },
  {
   "cell_type": "markdown",
   "metadata": {},
   "source": [
    "In order to make better typesetting, I use the libary \"_IPython.core.display_\", which may not work in github. Please use \"_nbviewer_\" for this report in the following link:  \n",
    "https://nbviewer.jupyter.org/github/phyhuhu/Coursera_Capstone/blob/master/Capstone_week5_report.ipynb\n",
    "\n",
    "The Jupyter Notebook with codes for this project is in the following link:\n",
    "https://nbviewer.jupyter.org/github/phyhuhu/Coursera_Capstone/blob/master/Capstone_week5_notebook.ipynb"
   ]
  },
  {
   "cell_type": "code",
   "execution_count": 10,
   "metadata": {
    "hideCode": true,
    "hideOutput": true,
    "hidePrompt": true
   },
   "outputs": [
    {
     "data": {
      "text/html": [
       "\n",
       "<style>\n",
       "\n",
       "div.cell { /* Tunes the space between cells */\n",
       "margin-top:0.2em;\n",
       "margin-bottom:0.2em;\n",
       "}\n",
       "\n",
       "div.text_cell_render h1 { /* Main titles bigger, centered */\n",
       "font-size: 2.2em;\n",
       "line-height:1.4em;\n",
       "text-align:center;\n",
       "}\n",
       "\n",
       "div.text_cell_render h2 { /*  Parts names nearer from text */\n",
       "margin-bottom: -0.4em;\n",
       "}\n",
       "\n",
       "div.text_cell_render { /* Customize text cells */\n",
       "font-family: 'Times New Roman';\n",
       "font-size:1.5em;\n",
       "line-height:1.0em;\n",
       "padding-left:2em;\n",
       "padding-right:2em;\n",
       "}\n",
       "\n",
       "</style>\n"
      ],
      "text/plain": [
       "<IPython.core.display.HTML object>"
      ]
     },
     "execution_count": 10,
     "metadata": {},
     "output_type": "execute_result"
    }
   ],
   "source": [
    "# code for the typesetting:\n",
    "from IPython.core.display import HTML\n",
    "HTML(\"\"\"\n",
    "<style>\n",
    "\n",
    "div.cell { /* Tunes the space between cells */\n",
    "margin-top:0.2em;\n",
    "margin-bottom:0.2em;\n",
    "}\n",
    "\n",
    "div.text_cell_render h1 { /* Main titles bigger, centered */\n",
    "font-size: 2.2em;\n",
    "line-height:1.4em;\n",
    "text-align:center;\n",
    "}\n",
    "\n",
    "div.text_cell_render h2 { /*  Parts names nearer from text */\n",
    "margin-bottom: -0.4em;\n",
    "}\n",
    "\n",
    "div.text_cell_render { /* Customize text cells */\n",
    "font-family: 'Times New Roman';\n",
    "font-size:1.5em;\n",
    "line-height:1.0em;\n",
    "padding-left:2em;\n",
    "padding-right:2em;\n",
    "}\n",
    "\n",
    "</style>\n",
    "\"\"\")"
   ]
  }
 ],
 "metadata": {
  "kernelspec": {
   "display_name": "Python 3",
   "language": "python",
   "name": "python3"
  },
  "language_info": {
   "codemirror_mode": {
    "name": "ipython",
    "version": 3
   },
   "file_extension": ".py",
   "mimetype": "text/x-python",
   "name": "python",
   "nbconvert_exporter": "python",
   "pygments_lexer": "ipython3",
   "version": "3.6.7"
  }
 },
 "nbformat": 4,
 "nbformat_minor": 2
}
